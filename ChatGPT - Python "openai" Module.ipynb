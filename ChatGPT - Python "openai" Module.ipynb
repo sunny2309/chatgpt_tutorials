{
 "cells": [
  {
   "cell_type": "markdown",
   "id": "876867d4",
   "metadata": {},
   "source": [
    "# ChatGPT in Python Jupyter Notebooks \n",
    "\n",
    "## Part 1 - Access OpenAI APIs using <span style=\"color:tomato;\">\"openai\" Python Module</span>\n",
    "\n",
    "1. **[Set Organization & API Key](#1)**\n",
    "2. **[Retrieve List of Available Models](#2)**\n",
    "3. **[Simple Text Generation](#3)**\n",
    "4. **[Chat GPT-3.5](#4)**\n",
    "5. **[Modify Number of Returned \"Tokens\"](#5)**\n",
    "6. **[Modify Number of Returned \"Choices\"](#6)**\n",
    "7. **[Make Output Non-Deterministic | Add Randomness](#7)**\n",
    "\n",
    "### Install openai\n",
    "\n",
    "* **pip install openai**"
   ]
  },
  {
   "cell_type": "code",
   "execution_count": 3,
   "id": "f68b251b",
   "metadata": {
    "scrolled": true
   },
   "outputs": [
    {
     "name": "stdout",
     "output_type": "stream",
     "text": [
      "0.27.7\n"
     ]
    }
   ],
   "source": [
    "import openai\n",
    "\n",
    "print(openai.VERSION)"
   ]
  },
  {
   "cell_type": "markdown",
   "id": "43f262b6",
   "metadata": {},
   "source": [
    "## 1. Set Organization & API Key\n",
    "\n",
    "Function | URL\n",
    "-|-\n",
    "**Create API Key** | **https://platform.openai.com/account/api-keys**\n",
    "**Organization ID** | **https://platform.openai.com/account/org-settings**\n",
    "**API Usage & Credit Limit** | **https://platform.openai.com/account/usage**\n",
    "**Rate Limits** | **https://platform.openai.com/account/rate-limits**\n",
    "**Pricing** | **https://openai.com/pricing**"
   ]
  },
  {
   "cell_type": "code",
   "execution_count": 4,
   "id": "bfd59f11",
   "metadata": {},
   "outputs": [],
   "source": [
    "org, api_key = open(\"api_key.txt\").read().strip().split(\"\\n\")"
   ]
  },
  {
   "cell_type": "code",
   "execution_count": 5,
   "id": "f3ea167a",
   "metadata": {},
   "outputs": [],
   "source": [
    "openai.organization = org\n",
    "openai.api_key = api_key"
   ]
  },
  {
   "cell_type": "markdown",
   "id": "5cc96898",
   "metadata": {},
   "source": [
    "## 2. Retrieve List of Available Models\n",
    "\n",
    "<img src=\"models.jpg\" width=600/>"
   ]
  },
  {
   "cell_type": "code",
   "execution_count": 6,
   "id": "f5c4e323",
   "metadata": {
    "scrolled": false
   },
   "outputs": [
    {
     "data": {
      "text/plain": [
       "openai.openai_object.OpenAIObject"
      ]
     },
     "execution_count": 6,
     "metadata": {},
     "output_type": "execute_result"
    }
   ],
   "source": [
    "models = openai.Model.list()\n",
    "\n",
    "type(models)"
   ]
  },
  {
   "cell_type": "code",
   "execution_count": 7,
   "id": "56586ab2",
   "metadata": {},
   "outputs": [
    {
     "data": {
      "text/plain": [
       "dict_keys(['object', 'data'])"
      ]
     },
     "execution_count": 7,
     "metadata": {},
     "output_type": "execute_result"
    }
   ],
   "source": [
    "models.keys()"
   ]
  },
  {
   "cell_type": "code",
   "execution_count": 8,
   "id": "e39b29b4",
   "metadata": {},
   "outputs": [
    {
     "data": {
      "text/plain": [
       "64"
      ]
     },
     "execution_count": 8,
     "metadata": {},
     "output_type": "execute_result"
    }
   ],
   "source": [
    "all_models = [model[\"id\"] for model in models[\"data\"]]\n",
    "\n",
    "len(all_models)"
   ]
  },
  {
   "cell_type": "code",
   "execution_count": 9,
   "id": "b7e4332b",
   "metadata": {
    "scrolled": true
   },
   "outputs": [
    {
     "data": {
      "text/plain": [
       "['gpt-3.5-turbo', 'gpt-3.5-turbo-0301']"
      ]
     },
     "execution_count": 9,
     "metadata": {},
     "output_type": "execute_result"
    }
   ],
   "source": [
    "[model for model in all_models if model.startswith(\"gpt\")]"
   ]
  },
  {
   "cell_type": "code",
   "execution_count": 10,
   "id": "195018c8",
   "metadata": {
    "scrolled": true
   },
   "outputs": [
    {
     "data": {
      "text/plain": [
       "['whisper-1',\n",
       " 'babbage',\n",
       " 'davinci',\n",
       " 'text-davinci-edit-001',\n",
       " 'babbage-code-search-code',\n",
       " 'text-similarity-babbage-001',\n",
       " 'code-davinci-edit-001',\n",
       " 'text-davinci-001',\n",
       " 'ada',\n",
       " 'babbage-code-search-text',\n",
       " 'babbage-similarity',\n",
       " 'code-search-babbage-text-001',\n",
       " 'text-curie-001',\n",
       " 'code-search-babbage-code-001',\n",
       " 'text-ada-001']"
      ]
     },
     "execution_count": 10,
     "metadata": {},
     "output_type": "execute_result"
    }
   ],
   "source": [
    "all_models[:15]"
   ]
  },
  {
   "cell_type": "markdown",
   "id": "9a49a8bb",
   "metadata": {},
   "source": [
    "## 3. Simple Text Generation (GPT-3)\n",
    "\n",
    "<img src=\"model-endpoints.jpg\" width=600/>\n"
   ]
  },
  {
   "cell_type": "code",
   "execution_count": 11,
   "id": "921e9549",
   "metadata": {},
   "outputs": [],
   "source": [
    "prompt = \"Suggest three different ways of doing pushups.\"\n",
    "\n",
    "response = openai.Completion.create(model=\"text-davinci-003\", prompt=prompt)"
   ]
  },
  {
   "cell_type": "code",
   "execution_count": 12,
   "id": "1cbc4f16",
   "metadata": {
    "scrolled": true
   },
   "outputs": [
    {
     "data": {
      "text/plain": [
       "dict_keys(['id', 'object', 'created', 'model', 'choices', 'usage'])"
      ]
     },
     "execution_count": 12,
     "metadata": {},
     "output_type": "execute_result"
    }
   ],
   "source": [
    "response.keys()"
   ]
  },
  {
   "cell_type": "code",
   "execution_count": 13,
   "id": "8e7f73f2",
   "metadata": {
    "scrolled": true
   },
   "outputs": [
    {
     "name": "stdout",
     "output_type": "stream",
     "text": [
      "\n",
      "======== Choice 1 =================\n",
      "\n",
      "\n",
      "1. Traditional Pushups: With your feet together and your hands slightly\n"
     ]
    }
   ],
   "source": [
    "for i, choice in enumerate(response[\"choices\"], start=1):\n",
    "    print(\"\\n======== Choice {} =================\".format(i))\n",
    "    print(choice[\"text\"])"
   ]
  },
  {
   "cell_type": "code",
   "execution_count": 14,
   "id": "ffb994de",
   "metadata": {},
   "outputs": [
    {
     "data": {
      "text/plain": [
       "<OpenAIObject at 0x7f994809af30> JSON: {\n",
       "  \"completion_tokens\": 16,\n",
       "  \"prompt_tokens\": 9,\n",
       "  \"total_tokens\": 25\n",
       "}"
      ]
     },
     "execution_count": 14,
     "metadata": {},
     "output_type": "execute_result"
    }
   ],
   "source": [
    "response[\"usage\"]"
   ]
  },
  {
   "cell_type": "markdown",
   "id": "c18daeb0",
   "metadata": {},
   "source": [
    "<img src=\"tokens2.jpg\" width=600/>"
   ]
  },
  {
   "cell_type": "markdown",
   "id": "82828a47",
   "metadata": {},
   "source": [
    "## 4. Chat GPT 3.5\n",
    "\n",
    "<img src=\"model-endpoints.jpg\" width=600/>"
   ]
  },
  {
   "cell_type": "code",
   "execution_count": 15,
   "id": "0c682fa3",
   "metadata": {},
   "outputs": [],
   "source": [
    "messages = [{\"role\": \"user\", \"content\": \"Suggest three different ways of doing pushups.\"}]\n",
    "\n",
    "response = openai.ChatCompletion.create(model=\"gpt-3.5-turbo\", messages=messages)"
   ]
  },
  {
   "cell_type": "code",
   "execution_count": 16,
   "id": "20911998",
   "metadata": {
    "scrolled": true
   },
   "outputs": [
    {
     "name": "stdout",
     "output_type": "stream",
     "text": [
      "\n",
      "======== Choice 1 =================\n",
      "Role :  assistant \n",
      "\n",
      "1) Regular pushups: Start in a plank position with hands shoulder-width apart. Lower your body by bending your elbows until your chest touches the ground. Push back up to the starting position. \n",
      "2) Incline pushups: Place your hands on an elevated surface such as a bench, wall or chair. Follow the same steps as the regular pushups, but with less resistance and intensity. \n",
      "3) Diamond pushups: Get into the regular pushup position, but instead of placing your hands shoulder-width apart, bring your hands together so that your index fingers and thumbs are touching to create a diamond shape. Lower your body and push back up using your triceps.\n"
     ]
    }
   ],
   "source": [
    "for i, choice in enumerate(response[\"choices\"], start=1):\n",
    "    print(\"\\n======== Choice {} =================\".format(i))\n",
    "    print(\"Role : \", choice[\"message\"][\"role\"], \"\\n\")\n",
    "    print(choice[\"message\"][\"content\"])"
   ]
  },
  {
   "cell_type": "code",
   "execution_count": 17,
   "id": "bd788a08",
   "metadata": {
    "scrolled": true
   },
   "outputs": [
    {
     "data": {
      "text/plain": [
       "[{'role': 'user', 'content': 'Suggest three different ways of doing pushups.'},\n",
       " {'role': 'assistant',\n",
       "  'content': '1) Regular pushups: Start in a plank position with hands shoulder-width apart. Lower your body by bending your elbows until your chest touches the ground. Push back up to the starting position. \\n2) Incline pushups: Place your hands on an elevated surface such as a bench, wall or chair. Follow the same steps as the regular pushups, but with less resistance and intensity. \\n3) Diamond pushups: Get into the regular pushup position, but instead of placing your hands shoulder-width apart, bring your hands together so that your index fingers and thumbs are touching to create a diamond shape. Lower your body and push back up using your triceps.'}]"
      ]
     },
     "execution_count": 17,
     "metadata": {},
     "output_type": "execute_result"
    }
   ],
   "source": [
    "resp = response[\"choices\"][0]\n",
    "messages = messages + [{\"role\": resp[\"message\"][\"role\"], \"content\": resp[\"message\"][\"content\"]}]\n",
    "\n",
    "messages"
   ]
  },
  {
   "cell_type": "code",
   "execution_count": 18,
   "id": "827f7883",
   "metadata": {},
   "outputs": [
    {
     "data": {
      "text/plain": [
       "[{'role': 'user', 'content': 'Suggest three different ways of doing pushups.'},\n",
       " {'role': 'assistant',\n",
       "  'content': '1) Regular pushups: Start in a plank position with hands shoulder-width apart. Lower your body by bending your elbows until your chest touches the ground. Push back up to the starting position. \\n2) Incline pushups: Place your hands on an elevated surface such as a bench, wall or chair. Follow the same steps as the regular pushups, but with less resistance and intensity. \\n3) Diamond pushups: Get into the regular pushup position, but instead of placing your hands shoulder-width apart, bring your hands together so that your index fingers and thumbs are touching to create a diamond shape. Lower your body and push back up using your triceps.'},\n",
       " {'role': 'user',\n",
       "  'content': 'Great! Which one is best for upper body growth?'}]"
      ]
     },
     "execution_count": 18,
     "metadata": {},
     "output_type": "execute_result"
    }
   ],
   "source": [
    "messages = messages + [{\"role\": \"user\", \"content\": \"Great! Which one is best for upper body growth?\"}]\n",
    "\n",
    "messages"
   ]
  },
  {
   "cell_type": "code",
   "execution_count": 19,
   "id": "1fac4ae0",
   "metadata": {},
   "outputs": [],
   "source": [
    "response = openai.ChatCompletion.create(model=\"gpt-3.5-turbo\", messages=messages)"
   ]
  },
  {
   "cell_type": "code",
   "execution_count": 20,
   "id": "11032803",
   "metadata": {},
   "outputs": [
    {
     "name": "stdout",
     "output_type": "stream",
     "text": [
      "\n",
      "======== Choice 1 =================\n",
      "Role :  assistant \n",
      "\n",
      "All three push-up styles work great for building upper body strength and muscle mass. However, if you want to focus on specific muscles, then the following can be helpful:\n",
      " \n",
      "1. Regular Pushup: The classic pushup targets the chest, shoulders, and triceps.\n",
      "2. Incline Pushup: Places more emphasis on the lower part of the chest and triceps.\n",
      "3. Diamond Pushup: Targets the triceps, chest, and shoulders. It requires more effort than the regular pushup and is beneficial for triceps development.\n",
      "\n",
      "Therefore, to achieve upper body growth, you can incorporate all three types of pushups into your training routine.\n"
     ]
    }
   ],
   "source": [
    "for i, choice in enumerate(response[\"choices\"], start=1):\n",
    "    print(\"\\n======== Choice {} =================\".format(i))\n",
    "    print(\"Role : \", choice[\"message\"][\"role\"], \"\\n\")\n",
    "    print(choice[\"message\"][\"content\"])"
   ]
  },
  {
   "cell_type": "markdown",
   "id": "675056fe",
   "metadata": {},
   "source": [
    "## 5. Modify Number of Returned Tokens\n",
    "\n",
    "* **Completions Default** - 16 Tokens\n",
    "* **Chat Completions Default** - Infinite Tokens\n",
    "\n",
    "\n",
    "<img src=\"tokens.jpg\" width=500/>\n",
    "\n",
    "* **Tokenizer** --> **https://platform.openai.com/tokenizer**"
   ]
  },
  {
   "cell_type": "code",
   "execution_count": 21,
   "id": "cde0c6da",
   "metadata": {},
   "outputs": [],
   "source": [
    "prompt = \"Suggest three different ways of doing pushups.\"\n",
    "\n",
    "response = openai.Completion.create(model=\"text-davinci-003\", prompt=prompt, max_tokens=200)"
   ]
  },
  {
   "cell_type": "code",
   "execution_count": 22,
   "id": "fd63a7e4",
   "metadata": {},
   "outputs": [
    {
     "name": "stdout",
     "output_type": "stream",
     "text": [
      "\n",
      "======== Choice 1 =================\n",
      "\n",
      "\n",
      "1. Traditional Pushups: Start in a high plank position with your hands and feet flat on the ground. Inhale and bend your elbows to lower your chest towards the ground. Then exhale while pushing back up.\n",
      "\n",
      "2. Knee Pushups: Start in a high plank position but place your knees on the ground instead of your feet. Then lower your chest towards the ground and push back up.\n",
      "\n",
      "3. Wall Pushups: Start with your feet about a foot away from a sturdy wall and place your hands on the wall at shoulder level. Lean in towards the wall and then push back. If this is too hard, lower your hands to a lower position on the wall.\n"
     ]
    }
   ],
   "source": [
    "for i, choice in enumerate(response[\"choices\"], start=1):\n",
    "    print(\"\\n======== Choice {} =================\".format(i))\n",
    "    print(choice[\"text\"])"
   ]
  },
  {
   "cell_type": "code",
   "execution_count": 23,
   "id": "f3ba7bd1",
   "metadata": {},
   "outputs": [
    {
     "data": {
      "text/plain": [
       "<OpenAIObject at 0x7f994809bc50> JSON: {\n",
       "  \"completion_tokens\": 144,\n",
       "  \"prompt_tokens\": 9,\n",
       "  \"total_tokens\": 153\n",
       "}"
      ]
     },
     "execution_count": 23,
     "metadata": {},
     "output_type": "execute_result"
    }
   ],
   "source": [
    "response[\"usage\"]"
   ]
  },
  {
   "cell_type": "markdown",
   "id": "0e23203d",
   "metadata": {},
   "source": [
    "## 6. Modify Number of Returned Choices"
   ]
  },
  {
   "cell_type": "code",
   "execution_count": 24,
   "id": "bfd8f778",
   "metadata": {},
   "outputs": [],
   "source": [
    "prompt = \"Suggest three different ways of doing pushups.\"\n",
    "\n",
    "response = openai.Completion.create(model=\"text-davinci-003\", prompt=prompt, max_tokens=200, n=3)"
   ]
  },
  {
   "cell_type": "code",
   "execution_count": 25,
   "id": "5ca83b30",
   "metadata": {},
   "outputs": [
    {
     "name": "stdout",
     "output_type": "stream",
     "text": [
      "\n",
      "======== Choice 1 =================\n",
      "\n",
      "\n",
      "1. Traditional Pushups: Start in a plank position with your hands and feet roughly shoulder-width apart, and elbows bent. Lower your body until your chest touches the floor, keeping your core tight. Push back up to the starting position.\n",
      "\n",
      "2. Elevated Pushups: Place your hands on a workout bench, chair, or other elevated surface. Lower your body until your chest nearly touches the bench, then come back up to full extension.\n",
      "\n",
      "3. Wall Pushups: Stand facing a wall and place your palms against the wall. Step back until arms are straight and your body forms an angle with the wall. Lower yourself toward the wall until your nose nearly touches it, then press back up.\n",
      "\n",
      "======== Choice 2 =================\n",
      "\n",
      "\n",
      "1. Traditional Pushup: Start on your hands and toes, making sure to keep your spine and legs straight, lowering your body to the floor and then pushing back up.\n",
      "\n",
      "2. Wall Pushup: Stand facing a wall and place your hands on it at chest level. Step back and lower your body until your arms bend at a 90-degree angle then push yourself back up.\n",
      "\n",
      "3. Plyometric Pushup: Start in a regular pushup position and as you lower your body, press off the floor so you jump off the ground with your hands, then repeat.\n",
      "\n",
      "======== Choice 3 =================\n",
      "\n",
      "\n",
      "1. Standard Push-Ups: Starting in a plank position, palms flat on the ground and slightly wider than shoulder-width apart, lower yourself until your chest almost touches the ground and then push up until your arms are straight.\n",
      "\n",
      "2. Incline Push-Ups: Place your hands higher up, such as on a countertop, wall, or stairs. Lower your body until your chest reaches the edge of the incline before pushing up and returning to starting position.\n",
      "\n",
      "3. Wide Push-Ups: This variation works your chest, triceps, and shoulders. Place your hands wider than shoulder-width apart and lower your body until your chest reaches the ground before pushing up and returning to starting position.\n"
     ]
    }
   ],
   "source": [
    "for i, choice in enumerate(response[\"choices\"], start=1):\n",
    "    print(\"\\n======== Choice {} =================\".format(i))\n",
    "    print(choice[\"text\"])"
   ]
  },
  {
   "cell_type": "code",
   "execution_count": 26,
   "id": "7642b4b5",
   "metadata": {},
   "outputs": [
    {
     "data": {
      "text/plain": [
       "<OpenAIObject at 0x7f994809bd10> JSON: {\n",
       "  \"completion_tokens\": 419,\n",
       "  \"prompt_tokens\": 9,\n",
       "  \"total_tokens\": 428\n",
       "}"
      ]
     },
     "execution_count": 26,
     "metadata": {},
     "output_type": "execute_result"
    }
   ],
   "source": [
    "response[\"usage\"]"
   ]
  },
  {
   "cell_type": "markdown",
   "id": "55c96dab",
   "metadata": {},
   "source": [
    "## 7. Make Output Non-Deterministic | Add Randomness"
   ]
  },
  {
   "cell_type": "code",
   "execution_count": 27,
   "id": "3cd4f30b",
   "metadata": {},
   "outputs": [],
   "source": [
    "prompt = \"Suggest three different ways of doing pushups.\"\n",
    "\n",
    "response = openai.Completion.create(model=\"text-davinci-003\", prompt=prompt, \n",
    "                                    max_tokens=200, n=3, temperature=0.0)"
   ]
  },
  {
   "cell_type": "code",
   "execution_count": 28,
   "id": "f173cf24",
   "metadata": {
    "scrolled": false
   },
   "outputs": [
    {
     "name": "stdout",
     "output_type": "stream",
     "text": [
      "\n",
      "======== Choice 1 =================\n",
      "\n",
      "\n",
      "1. Standard Pushups: Start in a plank position with your hands slightly wider than shoulder-width apart and your feet together. Lower your body until your chest nearly touches the floor, then push back up to the starting position.\n",
      "\n",
      "2. Incline Pushups: Place your hands on a raised surface such as a bench or chair. Lower your body until your chest nearly touches the surface, then push back up to the starting position.\n",
      "\n",
      "3. Wall Pushups: Stand facing a wall and place your hands on the wall at shoulder-width apart. Lean forward and lower your body until your chest nearly touches the wall, then push back up to the starting position.\n",
      "\n",
      "======== Choice 2 =================\n",
      "\n",
      "\n",
      "1. Standard Pushups: Start in a plank position with your hands slightly wider than shoulder-width apart and your feet together. Lower your body until your chest nearly touches the floor, then push back up to the starting position.\n",
      "\n",
      "2. Incline Pushups: Place your hands on a raised surface such as a bench or chair. Lower your body until your chest nearly touches the surface, then push back up to the starting position.\n",
      "\n",
      "3. Wall Pushups: Stand facing a wall and place your hands on the wall at shoulder-width apart. Lean forward and lower your body until your chest nearly touches the wall, then push back up to the starting position.\n",
      "\n",
      "======== Choice 3 =================\n",
      "\n",
      "\n",
      "1. Standard Pushups: Start in a plank position with your hands slightly wider than shoulder-width apart and your feet together. Lower your body until your chest nearly touches the floor, then push back up to the starting position.\n",
      "\n",
      "2. Incline Pushups: Place your hands on a raised surface such as a bench or chair. Lower your body until your chest nearly touches the surface, then push back up to the starting position.\n",
      "\n",
      "3. Wall Pushups: Stand facing a wall and place your hands on the wall at shoulder-width apart. Lean forward and lower your body until your chest nearly touches the wall, then push back up to the starting position.\n"
     ]
    }
   ],
   "source": [
    "for i, choice in enumerate(response[\"choices\"], start=1):\n",
    "    print(\"\\n======== Choice {} =================\".format(i))\n",
    "    print(choice[\"text\"])"
   ]
  },
  {
   "cell_type": "code",
   "execution_count": 29,
   "id": "6203b535",
   "metadata": {},
   "outputs": [
    {
     "data": {
      "text/plain": [
       "<OpenAIObject at 0x7f99480d4050> JSON: {\n",
       "  \"completion_tokens\": 420,\n",
       "  \"prompt_tokens\": 9,\n",
       "  \"total_tokens\": 429\n",
       "}"
      ]
     },
     "execution_count": 29,
     "metadata": {},
     "output_type": "execute_result"
    }
   ],
   "source": [
    "response[\"usage\"]"
   ]
  },
  {
   "cell_type": "code",
   "execution_count": 30,
   "id": "7dcd6550",
   "metadata": {},
   "outputs": [],
   "source": [
    "prompt = \"Suggest three different ways of doing pushups.\"\n",
    "\n",
    "response = openai.Completion.create(model=\"text-davinci-003\", prompt=prompt, \n",
    "                                    max_tokens=200, n=3, temperature=0.5)"
   ]
  },
  {
   "cell_type": "code",
   "execution_count": 31,
   "id": "497d18a8",
   "metadata": {},
   "outputs": [
    {
     "name": "stdout",
     "output_type": "stream",
     "text": [
      "\n",
      "======== Choice 1 =================\n",
      "\n",
      "\n",
      "1. Standard Push-Ups: Start with your hands and feet on the ground, with your hands slightly wider than shoulder-width apart. Lower your body until your chest is just above the ground, then push back up.\n",
      "\n",
      "2. Incline Push-Ups: Place your hands on an elevated surface such as a bench or stair step, and perform the same movement as a standard push-up.\n",
      "\n",
      "3. Wall Push-Ups: Stand facing a wall and place your hands on it, shoulder-width apart. Step back until your arms are fully extended, then bend your elbows to lower your chest towards the wall. Push back up to the starting position.\n",
      "\n",
      "======== Choice 2 =================\n",
      "\n",
      "\n",
      "1. Traditional Pushups: Start in a plank position with your hands shoulder-width apart and your feet together. Lower your chest to the floor, pause, and then push yourself back up.\n",
      "\n",
      "2. Wide Grip Pushups: Start in a plank position with your hands wider than shoulder-width apart and your feet together. Lower your chest to the floor, pause, and then push yourself back up.\n",
      "\n",
      "3. Decline Pushups: Place your feet on an elevated surface and start in a plank position with your hands shoulder-width apart. Lower your chest to the floor, pause, and then push yourself back up.\n",
      "\n",
      "======== Choice 3 =================\n",
      "\n",
      "\n",
      "1. Traditional Push-Ups: Begin in a plank position with your hands slightly wider than shoulder-width apart and your feet hip-width apart. Lower your body until your chest is just above the ground, and then push back up.\n",
      "\n",
      "2. Incline Push-Ups: Place your hands on an elevated surface such as a bench or a chair, and then lower your body until your chest is just above the surface. Push back up to the starting position.\n",
      "\n",
      "3. Wall Push-Ups: Stand facing a wall, and place your hands on the wall slightly wider than shoulder-width apart. Lean into the wall, and then push away from it until your arms are straight.\n"
     ]
    }
   ],
   "source": [
    "for i, choice in enumerate(response[\"choices\"], start=1):\n",
    "    print(\"\\n======== Choice {} =================\".format(i))\n",
    "    print(choice[\"text\"])"
   ]
  },
  {
   "cell_type": "markdown",
   "id": "f77c61a2",
   "metadata": {},
   "source": [
    "## Summary\n",
    "\n",
    "In today's tutorial, we covered how you can access **ChatGPT** in **Jupyter Notebook** using **OpenAI APIs**. To access API, we used **openai** Python module created by openai team. We explain **Completions** and **Chat Completions** endpoints of API to access AI models.\n",
    "\n",
    "### Stay Tuned to Our Channel for Video on <span style=\"color:tomato;\">OpenAI APIs Detailed Explanation.</span>"
   ]
  }
 ],
 "metadata": {
  "kernelspec": {
   "display_name": "Python 3 (ipykernel)",
   "language": "python",
   "name": "python3"
  },
  "language_info": {
   "codemirror_mode": {
    "name": "ipython",
    "version": 3
   },
   "file_extension": ".py",
   "mimetype": "text/x-python",
   "name": "python",
   "nbconvert_exporter": "python",
   "pygments_lexer": "ipython3",
   "version": "3.10.9"
  }
 },
 "nbformat": 4,
 "nbformat_minor": 5
}
