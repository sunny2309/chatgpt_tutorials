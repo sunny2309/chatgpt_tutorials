{
 "cells": [
  {
   "cell_type": "markdown",
   "id": "7bca1188",
   "metadata": {},
   "source": [
    "# ChatGPT in Python Jupyter Notebooks \n",
    "\n",
    "## Part 2 - Access OpenAI APIs using <span style=\"color:tomato;\">\"requests\" Python Module</span>\n",
    "\n",
    "1. **[Load Organization & API Key](#1)**\n",
    "2. **[Retrieve List of Available Models](#2)**\n",
    "3. **[Simple Text Generation](#3)**\n",
    "4. **[Chat GPT-3.5](#4)**\n",
    "5. **[Modify Number of Returned \"Tokens\"](#5)**\n",
    "6. **[Modify Number of Returned \"Choices\"](#6)**\n",
    "7. **[Make Output Non-Deterministic | Add Randomness](#7)**\n",
    "\n",
    "### Install \"requests\"\n",
    "\n",
    "* **pip install requests**"
   ]
  },
  {
   "cell_type": "code",
   "execution_count": 1,
   "id": "fa5d2a00",
   "metadata": {},
   "outputs": [
    {
     "name": "stdout",
     "output_type": "stream",
     "text": [
      "2.28.1\n"
     ]
    }
   ],
   "source": [
    "import requests\n",
    "\n",
    "print(requests.__version__)"
   ]
  },
  {
   "cell_type": "code",
   "execution_count": 2,
   "id": "0bf895dc",
   "metadata": {},
   "outputs": [],
   "source": [
    "import json"
   ]
  },
  {
   "cell_type": "markdown",
   "id": "7e37a395",
   "metadata": {},
   "source": [
    "## 1. Load API Key\n",
    "\n",
    "Function | URL\n",
    "-|-\n",
    "**Create API Key** | **https://platform.openai.com/account/api-keys**\n",
    "**Organization ID** | **https://platform.openai.com/account/org-settings**\n",
    "**API Usage & Credit Limit** | **https://platform.openai.com/account/usage**\n",
    "**Rate Limits** | **https://platform.openai.com/account/rate-limits**\n",
    "**Pricing** | **https://openai.com/pricing**"
   ]
  },
  {
   "cell_type": "code",
   "execution_count": 3,
   "id": "f7f4843b",
   "metadata": {},
   "outputs": [],
   "source": [
    "org, api_key = open(\"api_key.txt\").read().strip().split(\"\\n\")"
   ]
  },
  {
   "cell_type": "markdown",
   "id": "bef0c4e0",
   "metadata": {},
   "source": [
    "## 2. Retrieve List of Available AI Models\n",
    "\n",
    "<img src=\"models.jpg\" width=600/>"
   ]
  },
  {
   "cell_type": "code",
   "execution_count": 4,
   "id": "b8d41a12",
   "metadata": {},
   "outputs": [
    {
     "data": {
      "text/plain": [
       "200"
      ]
     },
     "execution_count": 4,
     "metadata": {},
     "output_type": "execute_result"
    }
   ],
   "source": [
    "headers = {\"Authorization\": \"Bearer {}\".format(api_key), \"OpenAI-Organization\" : org, \n",
    "           \"Content-Type\": \"application/json\"}\n",
    "\n",
    "base_url = \"https://api.openai.com\"\n",
    "api_path = \"/v1/models\"\n",
    "\n",
    "resp = requests.get(base_url + api_path, headers=headers)\n",
    "\n",
    "resp.status_code"
   ]
  },
  {
   "cell_type": "code",
   "execution_count": 5,
   "id": "2e88ca60",
   "metadata": {},
   "outputs": [
    {
     "data": {
      "text/plain": [
       "dict_keys(['object', 'data'])"
      ]
     },
     "execution_count": 5,
     "metadata": {},
     "output_type": "execute_result"
    }
   ],
   "source": [
    "models = resp.json()\n",
    "\n",
    "models.keys()"
   ]
  },
  {
   "cell_type": "code",
   "execution_count": 6,
   "id": "c6f2160a",
   "metadata": {},
   "outputs": [
    {
     "data": {
      "text/plain": [
       "50"
      ]
     },
     "execution_count": 6,
     "metadata": {},
     "output_type": "execute_result"
    }
   ],
   "source": [
    "all_models = [model[\"id\"] for model in models[\"data\"]]\n",
    "\n",
    "len(all_models)"
   ]
  },
  {
   "cell_type": "code",
   "execution_count": 7,
   "id": "2c0a6605",
   "metadata": {},
   "outputs": [
    {
     "data": {
      "text/plain": [
       "['gpt-3.5-turbo-0301', 'gpt-3.5-turbo']"
      ]
     },
     "execution_count": 7,
     "metadata": {},
     "output_type": "execute_result"
    }
   ],
   "source": [
    "[model for model in all_models if model.startswith(\"gpt\")]"
   ]
  },
  {
   "cell_type": "code",
   "execution_count": 8,
   "id": "2288cec9",
   "metadata": {},
   "outputs": [
    {
     "data": {
      "text/plain": [
       "['whisper-1',\n",
       " 'babbage',\n",
       " 'davinci',\n",
       " 'text-davinci-edit-001',\n",
       " 'babbage-code-search-code',\n",
       " 'text-similarity-babbage-001',\n",
       " 'code-davinci-edit-001',\n",
       " 'text-davinci-001',\n",
       " 'ada',\n",
       " 'babbage-code-search-text',\n",
       " 'babbage-similarity',\n",
       " 'code-search-babbage-text-001',\n",
       " 'text-curie-001',\n",
       " 'code-search-babbage-code-001',\n",
       " 'text-ada-001']"
      ]
     },
     "execution_count": 8,
     "metadata": {},
     "output_type": "execute_result"
    }
   ],
   "source": [
    "all_models[:15]"
   ]
  },
  {
   "cell_type": "markdown",
   "id": "3742feca",
   "metadata": {},
   "source": [
    "## 3. Simple Text Generation (GPT-3)\n",
    "\n",
    "<img src=\"model-endpoints.jpg\" width=600/>\n"
   ]
  },
  {
   "cell_type": "code",
   "execution_count": 9,
   "id": "4eab5735",
   "metadata": {},
   "outputs": [
    {
     "data": {
      "text/plain": [
       "200"
      ]
     },
     "execution_count": 9,
     "metadata": {},
     "output_type": "execute_result"
    }
   ],
   "source": [
    "headers = {\"Authorization\": \"Bearer {}\".format(api_key), \"OpenAI-Organization\" : org, \n",
    "           \"Content-Type\": \"application/json\"}\n",
    "\n",
    "base_url = \"https://api.openai.com\"\n",
    "api_path = \"/v1/completions\"\n",
    "\n",
    "data = {\"model\": \"text-davinci-003\", ## GPT-3\n",
    "        \"prompt\":\"Suggest three different ways of doing pushups.\"}\n",
    "\n",
    "resp = requests.post(base_url + api_path, headers=headers, data=json.dumps(data)) ## POST Request\n",
    "\n",
    "resp.status_code"
   ]
  },
  {
   "cell_type": "code",
   "execution_count": 11,
   "id": "0cdf861b",
   "metadata": {},
   "outputs": [
    {
     "data": {
      "text/plain": [
       "dict_keys(['id', 'object', 'created', 'model', 'choices', 'usage'])"
      ]
     },
     "execution_count": 11,
     "metadata": {},
     "output_type": "execute_result"
    }
   ],
   "source": [
    "response = resp.json()\n",
    "\n",
    "response.keys()"
   ]
  },
  {
   "cell_type": "code",
   "execution_count": 12,
   "id": "74abb3b6",
   "metadata": {},
   "outputs": [
    {
     "name": "stdout",
     "output_type": "stream",
     "text": [
      "\n",
      "======== Choice 1 =================\n",
      "\n",
      "\n",
      "1. Standard Pushups: Begin in a high plank position with your\n"
     ]
    }
   ],
   "source": [
    "for i, choice in enumerate(response[\"choices\"], start=1):\n",
    "    print(\"\\n======== Choice {} =================\".format(i))\n",
    "    print(choice[\"text\"])"
   ]
  },
  {
   "cell_type": "code",
   "execution_count": 13,
   "id": "3e98d659",
   "metadata": {},
   "outputs": [
    {
     "data": {
      "text/plain": [
       "{'prompt_tokens': 9, 'completion_tokens': 16, 'total_tokens': 25}"
      ]
     },
     "execution_count": 13,
     "metadata": {},
     "output_type": "execute_result"
    }
   ],
   "source": [
    "response[\"usage\"]"
   ]
  },
  {
   "cell_type": "markdown",
   "id": "48ad7a13",
   "metadata": {},
   "source": [
    "<img src=\"tokens2.jpg\" width=600/>"
   ]
  },
  {
   "cell_type": "markdown",
   "id": "69d3b017",
   "metadata": {},
   "source": [
    "## 4. Chat GPT 3.5\n",
    "\n",
    "<img src=\"model-endpoints.jpg\" width=600/>"
   ]
  },
  {
   "cell_type": "code",
   "execution_count": 14,
   "id": "e4861fc5",
   "metadata": {},
   "outputs": [
    {
     "data": {
      "text/plain": [
       "200"
      ]
     },
     "execution_count": 14,
     "metadata": {},
     "output_type": "execute_result"
    }
   ],
   "source": [
    "headers = {\"Authorization\": \"Bearer {}\".format(api_key), \"OpenAI-Organization\" : org, \n",
    "           \"Content-Type\": \"application/json\"}\n",
    "\n",
    "base_url = \"https://api.openai.com\"\n",
    "api_path = \"/v1/chat/completions\"\n",
    "\n",
    "messages = [{\"role\": \"user\", \"content\": \"Suggest three different ways of doing pushups.\"}]\n",
    "\n",
    "data = {\"model\": \"gpt-3.5-turbo\", \"messages\": messages}\n",
    "\n",
    "resp = requests.post(base_url + api_path, headers=headers, data=json.dumps(data)) ## POST Request\n",
    "\n",
    "resp.status_code"
   ]
  },
  {
   "cell_type": "code",
   "execution_count": 15,
   "id": "4dbb131b",
   "metadata": {},
   "outputs": [
    {
     "name": "stdout",
     "output_type": "stream",
     "text": [
      "\n",
      "======== Choice 1 =================\n",
      "Role :  assistant \n",
      "\n",
      "1. Standard Pushups: Begin by getting down on all fours, place your hands slightly wider than shoulder-width apart and keep elbows close to your body. Extend legs behind you and keep your core tight. Lower yourself until your chest grazes the floor, then exhale and push back up.\n",
      "\n",
      "2. Diamond Pushups: Start in the same position as standard pushups, but put your hands close together in the shape of a diamond under your chest. Keeping elbows close to your body, lower yourself towards the ground while maintaining the diamond shape with your hands, then exhale and push back up.\n",
      "\n",
      "3. Incline Pushups: Find an elevated surface, like a bench or stair, and place your hands shoulder-width apart on it. Walk your feet behind you, straighten your body, and keep your core tight. Bend your elbows and lower your body down towards the elevated surface, then exhale and push back up.\n"
     ]
    }
   ],
   "source": [
    "response = resp.json()\n",
    "\n",
    "for i, choice in enumerate(response[\"choices\"], start=1):\n",
    "    print(\"\\n======== Choice {} =================\".format(i))\n",
    "    print(\"Role : \", choice[\"message\"][\"role\"], \"\\n\")\n",
    "    print(choice[\"message\"][\"content\"])"
   ]
  },
  {
   "cell_type": "code",
   "execution_count": 16,
   "id": "910e9743",
   "metadata": {},
   "outputs": [
    {
     "data": {
      "text/plain": [
       "[{'role': 'user', 'content': 'Suggest three different ways of doing pushups.'},\n",
       " {'role': 'assistant',\n",
       "  'content': '1. Standard Pushups: Begin by getting down on all fours, place your hands slightly wider than shoulder-width apart and keep elbows close to your body. Extend legs behind you and keep your core tight. Lower yourself until your chest grazes the floor, then exhale and push back up.\\n\\n2. Diamond Pushups: Start in the same position as standard pushups, but put your hands close together in the shape of a diamond under your chest. Keeping elbows close to your body, lower yourself towards the ground while maintaining the diamond shape with your hands, then exhale and push back up.\\n\\n3. Incline Pushups: Find an elevated surface, like a bench or stair, and place your hands shoulder-width apart on it. Walk your feet behind you, straighten your body, and keep your core tight. Bend your elbows and lower your body down towards the elevated surface, then exhale and push back up.'}]"
      ]
     },
     "execution_count": 16,
     "metadata": {},
     "output_type": "execute_result"
    }
   ],
   "source": [
    "messages += [response[\"choices\"][0][\"message\"]]\n",
    "\n",
    "messages"
   ]
  },
  {
   "cell_type": "code",
   "execution_count": 17,
   "id": "3b4169bf",
   "metadata": {},
   "outputs": [
    {
     "data": {
      "text/plain": [
       "[{'role': 'user', 'content': 'Suggest three different ways of doing pushups.'},\n",
       " {'role': 'assistant',\n",
       "  'content': '1. Standard Pushups: Begin by getting down on all fours, place your hands slightly wider than shoulder-width apart and keep elbows close to your body. Extend legs behind you and keep your core tight. Lower yourself until your chest grazes the floor, then exhale and push back up.\\n\\n2. Diamond Pushups: Start in the same position as standard pushups, but put your hands close together in the shape of a diamond under your chest. Keeping elbows close to your body, lower yourself towards the ground while maintaining the diamond shape with your hands, then exhale and push back up.\\n\\n3. Incline Pushups: Find an elevated surface, like a bench or stair, and place your hands shoulder-width apart on it. Walk your feet behind you, straighten your body, and keep your core tight. Bend your elbows and lower your body down towards the elevated surface, then exhale and push back up.'},\n",
       " {'role': 'user',\n",
       "  'content': 'Great! Which one is best for upper body growth?'}]"
      ]
     },
     "execution_count": 17,
     "metadata": {},
     "output_type": "execute_result"
    }
   ],
   "source": [
    "messages = messages + [{\"role\": \"user\", \"content\": \"Great! Which one is best for upper body growth?\"}]\n",
    "\n",
    "messages"
   ]
  },
  {
   "cell_type": "code",
   "execution_count": 18,
   "id": "5dcdb90f",
   "metadata": {},
   "outputs": [
    {
     "data": {
      "text/plain": [
       "200"
      ]
     },
     "execution_count": 18,
     "metadata": {},
     "output_type": "execute_result"
    }
   ],
   "source": [
    "headers = {\"Authorization\": \"Bearer {}\".format(api_key), \"OpenAI-Organization\" : org, \n",
    "           \"Content-Type\": \"application/json\"}\n",
    "\n",
    "base_url = \"https://api.openai.com\"\n",
    "api_path = \"/v1/chat/completions\"\n",
    "\n",
    "data = {\"model\": \"gpt-3.5-turbo\", \"messages\": messages}\n",
    "\n",
    "resp = requests.post(base_url + api_path, headers=headers, data=json.dumps(data)) ## POST Request\n",
    "\n",
    "resp.status_code"
   ]
  },
  {
   "cell_type": "code",
   "execution_count": 19,
   "id": "8d641d3a",
   "metadata": {},
   "outputs": [
    {
     "name": "stdout",
     "output_type": "stream",
     "text": [
      "\n",
      "======== Choice 1 =================\n",
      "Role :  assistant \n",
      "\n",
      "All three types of pushups provide great benefits for upper body strength and growth. However, standard pushups are one of the most effective bodyweight exercises for building chest, shoulders, triceps, and core strength. Diamond pushups emphasize more on triceps, while incline pushups focus more on the upper chest muscles. It's best to mix up all three variations and incorporate them into your regular workout routine to ensure balanced development of upper body muscles.\n"
     ]
    }
   ],
   "source": [
    "response = resp.json()\n",
    "\n",
    "for i, choice in enumerate(response[\"choices\"], start=1):\n",
    "    print(\"\\n======== Choice {} =================\".format(i))\n",
    "    print(\"Role : \", choice[\"message\"][\"role\"], \"\\n\")\n",
    "    print(choice[\"message\"][\"content\"])"
   ]
  },
  {
   "cell_type": "code",
   "execution_count": 20,
   "id": "907d22d8",
   "metadata": {},
   "outputs": [
    {
     "data": {
      "text/plain": [
       "{'prompt_tokens': 225, 'completion_tokens': 91, 'total_tokens': 316}"
      ]
     },
     "execution_count": 20,
     "metadata": {},
     "output_type": "execute_result"
    }
   ],
   "source": [
    "response[\"usage\"]"
   ]
  },
  {
   "cell_type": "markdown",
   "id": "69c34d4b",
   "metadata": {},
   "source": [
    "## 5. Modify Number of Returned Tokens\n",
    "\n",
    "* **Completions Default** - 16 Tokens\n",
    "* **Chat Completions Default** - Infinite Tokens\n",
    "\n",
    "\n",
    "<img src=\"tokens.jpg\" width=500/>\n",
    "\n",
    "* **Tokenizer** --> **https://platform.openai.com/tokenizer**"
   ]
  },
  {
   "cell_type": "code",
   "execution_count": 21,
   "id": "4607c872",
   "metadata": {},
   "outputs": [
    {
     "data": {
      "text/plain": [
       "200"
      ]
     },
     "execution_count": 21,
     "metadata": {},
     "output_type": "execute_result"
    }
   ],
   "source": [
    "headers = {\"Authorization\": \"Bearer {}\".format(api_key), \"OpenAI-Organization\" : org, \n",
    "           \"Content-Type\": \"application/json\"}\n",
    "\n",
    "base_url = \"https://api.openai.com\"\n",
    "api_path = \"/v1/completions\" ## GPT-3\n",
    "\n",
    "data = {\"model\": \"text-davinci-003\", \n",
    "        \"prompt\":\"Suggest three different ways of doing pushups.\",\n",
    "        \"max_tokens\": 200\n",
    "       }\n",
    "\n",
    "resp = requests.post(base_url + api_path, headers=headers, data=json.dumps(data)) ## POST Request\n",
    "\n",
    "resp.status_code"
   ]
  },
  {
   "cell_type": "code",
   "execution_count": 22,
   "id": "c542ebd7",
   "metadata": {},
   "outputs": [
    {
     "name": "stdout",
     "output_type": "stream",
     "text": [
      "\n",
      "======== Choice 1 =================\n",
      "\n",
      "\n",
      "1. Regular Push-Ups: Start in a plank position with your hands shoulder-width apart and your feet hip-distance apart. Lower your body to the floor, keeping your elbows tucked close to your body. Push back up, and repeat.\n",
      "\n",
      "2. Wall Push-Ups: Stand facing a wall, with your feet hip-distance apart. Place your hands shoulder-width apart on the wall and lean forward. Push yourself back and away from the wall, and repeat.\n",
      "\n",
      "3. Incline Push-Ups: Place your hands on an elevated surface such as a chair, countertop, or staircase. Lower your body towards the surface and then push yourself away and repeat.\n"
     ]
    }
   ],
   "source": [
    "response = resp.json()\n",
    "\n",
    "for i, choice in enumerate(response[\"choices\"], start=1):\n",
    "    print(\"\\n======== Choice {} =================\".format(i))\n",
    "    print(choice[\"text\"])"
   ]
  },
  {
   "cell_type": "code",
   "execution_count": 23,
   "id": "f34cb28f",
   "metadata": {},
   "outputs": [
    {
     "data": {
      "text/plain": [
       "{'prompt_tokens': 9, 'completion_tokens': 146, 'total_tokens': 155}"
      ]
     },
     "execution_count": 23,
     "metadata": {},
     "output_type": "execute_result"
    }
   ],
   "source": [
    "response[\"usage\"]"
   ]
  },
  {
   "cell_type": "markdown",
   "id": "b070a62d",
   "metadata": {},
   "source": [
    "## 6. Modify Number of Returned Choices"
   ]
  },
  {
   "cell_type": "code",
   "execution_count": 24,
   "id": "5fc7fc54",
   "metadata": {},
   "outputs": [
    {
     "data": {
      "text/plain": [
       "200"
      ]
     },
     "execution_count": 24,
     "metadata": {},
     "output_type": "execute_result"
    }
   ],
   "source": [
    "headers = {\"Authorization\": \"Bearer {}\".format(api_key), \"OpenAI-Organization\" : org, \n",
    "           \"Content-Type\": \"application/json\"}\n",
    "\n",
    "base_url = \"https://api.openai.com\"\n",
    "api_path = \"/v1/completions\"\n",
    "\n",
    "data = {\"model\": \"text-davinci-003\", \n",
    "        \"prompt\":\"Suggest three different ways of doing pushups.\",\n",
    "        \"max_tokens\": 200,\n",
    "        \"n\": 3\n",
    "       }\n",
    "\n",
    "resp = requests.post(base_url + api_path, headers=headers, data=json.dumps(data)) ## POST Request\n",
    "\n",
    "resp.status_code"
   ]
  },
  {
   "cell_type": "code",
   "execution_count": 25,
   "id": "9ef7be40",
   "metadata": {
    "scrolled": false
   },
   "outputs": [
    {
     "name": "stdout",
     "output_type": "stream",
     "text": [
      "\n",
      "======== Choice 1 =================\n",
      "\n",
      "\n",
      "1. Standard Pushup: Lie on the floor with your palms flat on the floor, directly under your shoulders. Engage your core and lift yourself off the ground by pressing through your palms and pushing your body away from the ground. Lower yourself until your upper arms are parallel to the floor then press back up until your arms are straight. \n",
      "\n",
      "2. Wide Pushup: Start in the same position as the standard pushup, except place your hands wider than shoulder-width apart. Keep your core engaged and use your arms to lower yourself to the floor, then press back up.\n",
      "\n",
      "3. Isometric Pushup: Start in the top of a pushup position (arms straight, hands directly under the shoulders), then just bend your elbows slightly and hold the position as long as you can until you can’t maintain the form anymore.\n",
      "\n",
      "======== Choice 2 =================\n",
      "\n",
      "\n",
      "1. Standard Pushup - Starting in the plank position with arms straight and hands slightly wider than your shoulder width, slowly lower your body towards the ground as far as you can, keeping your back straight and core tight. Push back up to the starting position.\n",
      "\n",
      "2. Incline Pushup - Place your hands on an elevated surface, such as a bench or stair step. Keeping your back straight and core engaged, bend your elbows and lower your body towards the surface. Push back up to the starting position.\n",
      "\n",
      "3. Decline Pushup - Elevate your feet on an elevated surface, such as a bench or stair step. Keeping your back straight and core engaged, bend your elbows and lower your body towards the ground. Push back up to the starting position.\n",
      "\n",
      "======== Choice 3 =================\n",
      "\n",
      "\n",
      "1.Standard Push-Up: Start facing the floor, your hands slightly wider than shoulder-width apart and your legs straight behind you. Bend your elbows to lower your body until your chest is an inch or two off the floor, then straighten your arms back up.\n",
      "\n",
      "2.Elevated Push-Up: Start in the same position as the standard push-up, except with your hands placed on a bench, box, or other elevated surface. Bend your elbows to lower your chest until it touches the elevated surface, then extend your arms back up.\n",
      "\n",
      "3.Wall Push-Up: Stand facing a wall about two feet away with your hands at shoulder-height. Bend your elbows to lower your chest towards the wall, then extend your arms back out.\n"
     ]
    }
   ],
   "source": [
    "response = resp.json()\n",
    "\n",
    "for i, choice in enumerate(response[\"choices\"], start=1):\n",
    "    print(\"\\n======== Choice {} =================\".format(i))\n",
    "    print(choice[\"text\"])"
   ]
  },
  {
   "cell_type": "code",
   "execution_count": 26,
   "id": "289e7b96",
   "metadata": {},
   "outputs": [
    {
     "data": {
      "text/plain": [
       "{'prompt_tokens': 9, 'completion_tokens': 495, 'total_tokens': 504}"
      ]
     },
     "execution_count": 26,
     "metadata": {},
     "output_type": "execute_result"
    }
   ],
   "source": [
    "response[\"usage\"]"
   ]
  },
  {
   "cell_type": "markdown",
   "id": "7febb761",
   "metadata": {},
   "source": [
    "## 7. Make Output Non-Deterministic | Add Randomness"
   ]
  },
  {
   "cell_type": "code",
   "execution_count": 27,
   "id": "f34b2d3d",
   "metadata": {},
   "outputs": [
    {
     "data": {
      "text/plain": [
       "200"
      ]
     },
     "execution_count": 27,
     "metadata": {},
     "output_type": "execute_result"
    }
   ],
   "source": [
    "headers = {\"Authorization\": \"Bearer {}\".format(api_key), \"OpenAI-Organization\" : org, \n",
    "           \"Content-Type\": \"application/json\"}\n",
    "\n",
    "base_url = \"https://api.openai.com\"\n",
    "api_path = \"/v1/completions\"\n",
    "\n",
    "data = {\"model\": \"text-davinci-003\", \n",
    "        \"prompt\":\"Suggest three different ways of doing pushups.\",\n",
    "        \"max_tokens\": 200,\n",
    "        \"n\": 3,\n",
    "        \"temperature\": 0.0\n",
    "       }\n",
    "\n",
    "resp = requests.post(base_url + api_path, headers=headers, data=json.dumps(data)) ## POST Request\n",
    "\n",
    "resp.status_code"
   ]
  },
  {
   "cell_type": "code",
   "execution_count": 28,
   "id": "cd2422e3",
   "metadata": {},
   "outputs": [
    {
     "name": "stdout",
     "output_type": "stream",
     "text": [
      "\n",
      "======== Choice 1 =================\n",
      "\n",
      "\n",
      "1. Standard Pushups: Start in a plank position with your hands slightly wider than shoulder-width apart and your feet together. Lower your body until your chest nearly touches the floor, then push back up to the starting position.\n",
      "\n",
      "2. Incline Pushups: Place your hands on a raised surface such as a bench or chair. Lower your body until your chest nearly touches the surface, then push back up to the starting position.\n",
      "\n",
      "3. Wall Pushups: Stand facing a wall and place your hands on the wall at shoulder-width apart. Lean forward and lower your body until your chest nearly touches the wall, then push back up to the starting position.\n",
      "\n",
      "======== Choice 2 =================\n",
      "\n",
      "\n",
      "1. Standard Pushups: Start in a plank position with your hands slightly wider than shoulder-width apart and your feet together. Lower your body until your chest nearly touches the floor, then push back up to the starting position.\n",
      "\n",
      "2. Incline Pushups: Place your hands on a raised surface such as a bench or chair. Lower your body until your chest nearly touches the surface, then push back up to the starting position.\n",
      "\n",
      "3. Wall Pushups: Stand facing a wall and place your hands on the wall at shoulder-width apart. Lean forward and lower your body until your chest nearly touches the wall, then push back up to the starting position.\n",
      "\n",
      "======== Choice 3 =================\n",
      "\n",
      "\n",
      "1. Standard Pushups: Start in a plank position with your hands slightly wider than shoulder-width apart and your feet together. Lower your body until your chest nearly touches the floor, then push back up to the starting position.\n",
      "\n",
      "2. Incline Pushups: Place your hands on a raised surface such as a bench or chair. Lower your body until your chest nearly touches the surface, then push back up to the starting position.\n",
      "\n",
      "3. Wall Pushups: Stand facing a wall and place your hands on the wall at shoulder-width apart. Lean forward and lower your body until your chest nearly touches the wall, then push back up to the starting position.\n"
     ]
    }
   ],
   "source": [
    "response = resp.json()\n",
    "\n",
    "for i, choice in enumerate(response[\"choices\"], start=1):\n",
    "    print(\"\\n======== Choice {} =================\".format(i))\n",
    "    print(choice[\"text\"])"
   ]
  },
  {
   "cell_type": "code",
   "execution_count": 29,
   "id": "0ce79b58",
   "metadata": {},
   "outputs": [
    {
     "data": {
      "text/plain": [
       "200"
      ]
     },
     "execution_count": 29,
     "metadata": {},
     "output_type": "execute_result"
    }
   ],
   "source": [
    "headers = {\"Authorization\": \"Bearer {}\".format(api_key), \"OpenAI-Organization\" : org, \n",
    "           \"Content-Type\": \"application/json\"}\n",
    "\n",
    "base_url = \"https://api.openai.com\"\n",
    "api_path = \"/v1/completions\"\n",
    "\n",
    "data = {\"model\": \"text-davinci-003\", \n",
    "        \"prompt\":\"Suggest three different ways of doing pushups.\",\n",
    "        \"max_tokens\": 200,\n",
    "        \"n\": 3,\n",
    "        \"temperature\": 0.5\n",
    "       }\n",
    "\n",
    "resp = requests.post(base_url + api_path, headers=headers, data=json.dumps(data)) ## POST Request\n",
    "\n",
    "resp.status_code"
   ]
  },
  {
   "cell_type": "code",
   "execution_count": 30,
   "id": "a8b6bf6b",
   "metadata": {
    "scrolled": false
   },
   "outputs": [
    {
     "name": "stdout",
     "output_type": "stream",
     "text": [
      "\n",
      "======== Choice 1 =================\n",
      "\n",
      "\n",
      "1. Standard Pushups: Begin in a plank position, with your hands shoulder-width apart and your feet slightly apart. Lower your body until your chest nearly touches the floor, then push back up.\n",
      "\n",
      "2. Wide Pushups: Begin in a plank position, with your hands wider than shoulder-width apart and your feet slightly apart. Lower your body until your chest nearly touches the floor, then push back up.\n",
      "\n",
      "3. Decline Pushups: Begin in a plank position on an elevated surface, with your hands shoulder-width apart and your feet slightly apart. Lower your body until your chest nearly touches the floor, then push back up.\n",
      "\n",
      "======== Choice 2 =================\n",
      "\n",
      "\n",
      "1. Standard Pushup: Start in a plank position with your arms straight and your hands slightly wider than shoulder-width apart. Lower your chest towards the ground by bending your elbows, then push back up to the starting position.\n",
      "\n",
      "2. Wide Pushup: Start in a plank position with your arms wider than shoulder-width apart. Lower your chest towards the ground by bending your elbows, then push back up to the starting position.\n",
      "\n",
      "3. Incline Pushup: Place your hands on an elevated surface such as a bench or box. Keeping your body in a straight line, lower your chest towards the bench or box by bending your elbows, then push back up to the starting position.\n",
      "\n",
      "======== Choice 3 =================\n",
      "\n",
      "\n",
      "1. Traditional Pushups: Start in a plank position with your hands shoulder-width apart and your feet together. Lower your body until your chest nearly touches the ground, then push back up to the starting position.\n",
      "\n",
      "2. Wide Pushups: Start in a plank position with your hands wider than shoulder-width apart and your feet together. Lower your body until your chest nearly touches the ground, then push back up to the starting position.\n",
      "\n",
      "3. Plyometric Pushups: Start in a plank position with your hands shoulder-width apart and your feet together. Lower your body until your chest nearly touches the ground, then explosively push up to the starting position.\n"
     ]
    }
   ],
   "source": [
    "response = resp.json()\n",
    "\n",
    "for i, choice in enumerate(response[\"choices\"], start=1):\n",
    "    print(\"\\n======== Choice {} =================\".format(i))\n",
    "    print(choice[\"text\"])"
   ]
  },
  {
   "cell_type": "markdown",
   "id": "f303c4e9",
   "metadata": {},
   "source": [
    "## Summary\n",
    "\n",
    "In today's tutorial, we covered how you can access **ChatGPT** in **Jupyter Notebook** using **OpenAI APIs**. To access API, we used **requests** Python module. We explained **Completions** and **Chat Completions** endpoints of API to access AI models.\n",
    "\n",
    "### Stay Tuned to Our Channel for Video on <span style=\"color:tomato;\">OpenAI APIs Detailed Explanation.</span>"
   ]
  }
 ],
 "metadata": {
  "kernelspec": {
   "display_name": "Python 3 (ipykernel)",
   "language": "python",
   "name": "python3"
  },
  "language_info": {
   "codemirror_mode": {
    "name": "ipython",
    "version": 3
   },
   "file_extension": ".py",
   "mimetype": "text/x-python",
   "name": "python",
   "nbconvert_exporter": "python",
   "pygments_lexer": "ipython3",
   "version": "3.10.9"
  }
 },
 "nbformat": 4,
 "nbformat_minor": 5
}
